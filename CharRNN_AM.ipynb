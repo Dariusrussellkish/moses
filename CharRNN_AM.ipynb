{
 "cells": [
  {
   "cell_type": "code",
   "execution_count": 1,
   "metadata": {},
   "outputs": [],
   "source": [
    "from torch.utils.data import DataLoader\n",
    "from moses import CharVocab, StringDataset\n",
    "from moses.char_rnn import CharRNN\n",
    "from moses.char_rnn import config as CharRNNConfig\n",
    "import moses\n",
    "import torch\n",
    "from torch import autograd\n",
    "import rdkit.Chem as chem"
   ]
  },
  {
   "cell_type": "code",
   "execution_count": 2,
   "metadata": {},
   "outputs": [],
   "source": [
    "import torch\n",
    "import torch.nn as nn\n",
    "import torch.optim as optim\n",
    "\n",
    "from tqdm.auto import tqdm\n",
    "from torch.nn.utils.rnn import pad_sequence\n",
    "\n",
    "from moses.interfaces import MosesTrainer\n",
    "from moses.utils import CharVocab, Logger\n",
    "\n",
    "\n",
    "def anti_model_rnn_loss(loss, alpha=8.0):\n",
    "    mask = (loss == 0.0)\n",
    "    loss = torch.exp(-1 * loss)\n",
    "    loss = 1. - loss + 1.e-7\n",
    "    loss = torch.log(loss)\n",
    "    loss = -alpha * loss\n",
    "    loss[mask] = 0.0\n",
    "    return loss\n",
    "\n",
    "\n",
    "class CharRNNTrainer(MosesTrainer):\n",
    "\n",
    "    def __init__(self, config):\n",
    "        self.config = config\n",
    "\n",
    "    def _train_epoch(self, model, tqdm_data, criterion, optimizer=None):\n",
    "        if optimizer is None:\n",
    "            model.eval()\n",
    "        else:\n",
    "            model.train()\n",
    "\n",
    "        postfix = {'loss': 0,\n",
    "                   'running_loss': 0}\n",
    "\n",
    "        for i, ((prevs, nexts, lens), (nprevs, nnexts, nlens)) in enumerate(tqdm_data):\n",
    "            prevs = prevs.to(model.device)\n",
    "            nexts = nexts.to(model.device)\n",
    "            lens = lens.to(model.device)\n",
    "            \n",
    "            nprevs = nprevs.to(model.device)\n",
    "            nnexts = nnexts.to(model.device)\n",
    "            nlens = nlens.to(model.device)\n",
    "            \n",
    "            outputs, _, _ = model(prevs, lens)\n",
    "            noutputs, _, _ = model(nprevs, nlens)\n",
    "\n",
    "            loss = criterion(outputs.view(-1, outputs.shape[-1]),\n",
    "                             nexts.view(-1))\n",
    "            \n",
    "            nloss = criterion(noutputs.view(-1, noutputs.shape[-1]),\n",
    "                             nnexts.view(-1))\n",
    "            \n",
    "            nloss = anti_model_rnn_loss(nloss)\n",
    "            loss = torch.mean(loss)\n",
    "            nloss = torch.mean(nloss)\n",
    "            loss = loss + nloss\n",
    "            \n",
    "            if optimizer is not None:\n",
    "                optimizer.zero_grad()\n",
    "                loss.backward()\n",
    "                optimizer.step()\n",
    "                \n",
    "            \n",
    "#             if optimizer is not None:\n",
    "#                 optimizer.zero_grad()\n",
    "#                 nloss.backward()\n",
    "#                 optimizer.step()\n",
    "\n",
    "            postfix['loss'] = loss.item() + nloss.item()\n",
    "            postfix['running_loss'] += (loss.item() + nloss.item() -\n",
    "                                        postfix['running_loss']) / (i + 1)\n",
    "            tqdm_data.set_postfix(postfix)\n",
    "\n",
    "        postfix['mode'] = 'Eval' if optimizer is None else 'Train'\n",
    "        return postfix\n",
    "\n",
    "    def _train(self, model, train_loader, negative_loader, val_loader=None, logger=None):\n",
    "        def get_params():\n",
    "            return (p for p in model.parameters() if p.requires_grad)\n",
    "\n",
    "        device = model.device\n",
    "        criterion = nn.CrossEntropyLoss(reduction='none')\n",
    "        optimizer = optim.Adam(get_params(), lr=self.config.lr)\n",
    "        scheduler = optim.lr_scheduler.StepLR(optimizer,\n",
    "                                              self.config.step_size,\n",
    "                                              self.config.gamma)\n",
    "\n",
    "        model.zero_grad()\n",
    "        for epoch in range(self.config.train_epochs):\n",
    "\n",
    "            tqdm_data = tqdm(zip(train_loader, negative_loader),\n",
    "                             desc='Training (epoch #{})'.format(epoch), total=min(len(train_loader), len(negative_loader)))\n",
    "            postfix = self._train_epoch(model, tqdm_data, criterion, optimizer)\n",
    "            if logger is not None:\n",
    "                logger.append(postfix)\n",
    "                logger.save(self.config.log_file)\n",
    "\n",
    "            if val_loader is not None:\n",
    "                tqdm_data = tqdm(val_loader,\n",
    "                                 desc='Validation (epoch #{})'.format(epoch))\n",
    "                postfix = self._train_epoch(model, tqdm_data, criterion)\n",
    "                if logger is not None:\n",
    "                    logger.append(postfix)\n",
    "                    logger.save(self.config.log_file)\n",
    "\n",
    "            if (self.config.model_save is not None) and \\\n",
    "                    (epoch % self.config.save_frequency == 0):\n",
    "                model = model.to('cpu')\n",
    "                torch.save(\n",
    "                    model.state_dict(),\n",
    "                    self.config.model_save[:-3]+'_{0:03d}.pt'.format(epoch)\n",
    "                )\n",
    "                model = model.to(device)\n",
    "\n",
    "            scheduler.step()\n",
    "\n",
    "    def get_vocabulary(self, data):\n",
    "        return CharVocab.from_data(data)\n",
    "\n",
    "    def get_collate_fn(self, model):\n",
    "        device = self.get_collate_device(model)\n",
    "\n",
    "        def collate(data):\n",
    "            data.sort(key=len, reverse=True)\n",
    "            tensors = [model.string2tensor(string, device=device)\n",
    "                       for string in data]\n",
    "\n",
    "            pad = model.vocabulary.pad\n",
    "            prevs = pad_sequence([t[:-1] for t in tensors],\n",
    "                                 batch_first=True, padding_value=pad)\n",
    "            nexts = pad_sequence([t[1:] for t in tensors],\n",
    "                                 batch_first=True, padding_value=pad)\n",
    "            lens = torch.tensor([len(t) - 1 for t in tensors],\n",
    "                                dtype=torch.long, device=device)\n",
    "            return prevs, nexts, lens\n",
    "\n",
    "        return collate\n",
    "\n",
    "    def fit(self, model, train_data, negative_data, val_data=None):\n",
    "        logger = Logger() if self.config.log_file is not None else None\n",
    "\n",
    "        train_loader = self.get_dataloader(model, train_data, shuffle=True)\n",
    "        negative_loader = self.get_dataloader(model, negative_data, shuffle=True)\n",
    "        \n",
    "        val_loader = None if val_data is None else self.get_dataloader(\n",
    "            model, val_data, shuffle=False\n",
    "        )\n",
    "\n",
    "        self._train(model, train_loader, negative_loader, val_loader, logger)\n",
    "        return model\n"
   ]
  },
  {
   "cell_type": "code",
   "execution_count": 3,
   "metadata": {},
   "outputs": [],
   "source": [
    "import pandas as pd"
   ]
  },
  {
   "cell_type": "code",
   "execution_count": 4,
   "metadata": {},
   "outputs": [],
   "source": [
    "df = pd.read_csv('data/ngram_smiles.csv')"
   ]
  },
  {
   "cell_type": "code",
   "execution_count": 5,
   "metadata": {},
   "outputs": [],
   "source": [
    "neg_trigrams = df.loc[(df['n'] == 3) | (df['n'] == 4)]['smiles'].values"
   ]
  },
  {
   "cell_type": "code",
   "execution_count": 6,
   "metadata": {},
   "outputs": [
    {
     "data": {
      "text/plain": [
       "True"
      ]
     },
     "execution_count": 6,
     "metadata": {},
     "output_type": "execute_result"
    }
   ],
   "source": [
    "torch.cuda.is_available()"
   ]
  },
  {
   "cell_type": "code",
   "execution_count": 7,
   "metadata": {},
   "outputs": [
    {
     "data": {
      "text/plain": [
       "device(type='cuda', index=0)"
      ]
     },
     "execution_count": 7,
     "metadata": {},
     "output_type": "execute_result"
    }
   ],
   "source": [
    "torch.device(0)"
   ]
  },
  {
   "cell_type": "code",
   "execution_count": 8,
   "metadata": {},
   "outputs": [
    {
     "data": {
      "text/plain": [
       "False"
      ]
     },
     "execution_count": 8,
     "metadata": {},
     "output_type": "execute_result"
    }
   ],
   "source": [
    "torch.cuda.is_initialized()"
   ]
  },
  {
   "cell_type": "code",
   "execution_count": null,
   "metadata": {},
   "outputs": [
    {
     "data": {
      "application/vnd.jupyter.widget-view+json": {
       "model_id": "1a3784f8af4442f283f594ba98c80270",
       "version_major": 2,
       "version_minor": 0
      },
      "text/plain": [
       "HBox(children=(HTML(value='Training (epoch #0)'), FloatProgress(value=0.0, max=6191.0), HTML(value='')))"
      ]
     },
     "metadata": {},
     "output_type": "display_data"
    },
    {
     "name": "stdout",
     "output_type": "stream",
     "text": [
      "\n"
     ]
    },
    {
     "data": {
      "application/vnd.jupyter.widget-view+json": {
       "model_id": "8e4f86958708481bbc26fc6c7c0abe1f",
       "version_major": 2,
       "version_minor": 0
      },
      "text/plain": [
       "HBox(children=(HTML(value='Training (epoch #1)'), FloatProgress(value=0.0, max=6191.0), HTML(value='')))"
      ]
     },
     "metadata": {},
     "output_type": "display_data"
    },
    {
     "name": "stdout",
     "output_type": "stream",
     "text": [
      "\n"
     ]
    },
    {
     "data": {
      "application/vnd.jupyter.widget-view+json": {
       "model_id": "8c2573634b1a4ee29f7cdecca342a377",
       "version_major": 2,
       "version_minor": 0
      },
      "text/plain": [
       "HBox(children=(HTML(value='Training (epoch #2)'), FloatProgress(value=0.0, max=6191.0), HTML(value='')))"
      ]
     },
     "metadata": {},
     "output_type": "display_data"
    },
    {
     "name": "stdout",
     "output_type": "stream",
     "text": [
      "\n"
     ]
    },
    {
     "data": {
      "application/vnd.jupyter.widget-view+json": {
       "model_id": "4a6ac7aa47d54ef08b63bef9c63cafd5",
       "version_major": 2,
       "version_minor": 0
      },
      "text/plain": [
       "HBox(children=(HTML(value='Training (epoch #3)'), FloatProgress(value=0.0, max=6191.0), HTML(value='')))"
      ]
     },
     "metadata": {},
     "output_type": "display_data"
    },
    {
     "name": "stdout",
     "output_type": "stream",
     "text": [
      "\n"
     ]
    },
    {
     "data": {
      "application/vnd.jupyter.widget-view+json": {
       "model_id": "87a0c51c07734b1497503f19cc3215c1",
       "version_major": 2,
       "version_minor": 0
      },
      "text/plain": [
       "HBox(children=(HTML(value='Training (epoch #4)'), FloatProgress(value=0.0, max=6191.0), HTML(value='')))"
      ]
     },
     "metadata": {},
     "output_type": "display_data"
    },
    {
     "name": "stdout",
     "output_type": "stream",
     "text": [
      "\n"
     ]
    },
    {
     "data": {
      "application/vnd.jupyter.widget-view+json": {
       "model_id": "1cf95a2eac8f443f8b69417e50b29141",
       "version_major": 2,
       "version_minor": 0
      },
      "text/plain": [
       "HBox(children=(HTML(value='Training (epoch #5)'), FloatProgress(value=0.0, max=6191.0), HTML(value='')))"
      ]
     },
     "metadata": {},
     "output_type": "display_data"
    },
    {
     "name": "stdout",
     "output_type": "stream",
     "text": [
      "\n"
     ]
    },
    {
     "data": {
      "application/vnd.jupyter.widget-view+json": {
       "model_id": "43d17299d368481883d3e14c0dd695cc",
       "version_major": 2,
       "version_minor": 0
      },
      "text/plain": [
       "HBox(children=(HTML(value='Training (epoch #6)'), FloatProgress(value=0.0, max=6191.0), HTML(value='')))"
      ]
     },
     "metadata": {},
     "output_type": "display_data"
    },
    {
     "name": "stdout",
     "output_type": "stream",
     "text": [
      "\n"
     ]
    },
    {
     "data": {
      "application/vnd.jupyter.widget-view+json": {
       "model_id": "ac6716c3e9c1408197b75ca5102c0609",
       "version_major": 2,
       "version_minor": 0
      },
      "text/plain": [
       "HBox(children=(HTML(value='Training (epoch #7)'), FloatProgress(value=0.0, max=6191.0), HTML(value='')))"
      ]
     },
     "metadata": {},
     "output_type": "display_data"
    },
    {
     "name": "stdout",
     "output_type": "stream",
     "text": [
      "\n"
     ]
    },
    {
     "data": {
      "application/vnd.jupyter.widget-view+json": {
       "model_id": "16e69749a61a43939fbc202b8a56e621",
       "version_major": 2,
       "version_minor": 0
      },
      "text/plain": [
       "HBox(children=(HTML(value='Training (epoch #8)'), FloatProgress(value=0.0, max=6191.0), HTML(value='')))"
      ]
     },
     "metadata": {},
     "output_type": "display_data"
    },
    {
     "name": "stdout",
     "output_type": "stream",
     "text": [
      "\n"
     ]
    },
    {
     "data": {
      "application/vnd.jupyter.widget-view+json": {
       "model_id": "b5e65a755b80419ba866e55e8d2cca0b",
       "version_major": 2,
       "version_minor": 0
      },
      "text/plain": [
       "HBox(children=(HTML(value='Training (epoch #9)'), FloatProgress(value=0.0, max=6191.0), HTML(value='')))"
      ]
     },
     "metadata": {},
     "output_type": "display_data"
    },
    {
     "name": "stdout",
     "output_type": "stream",
     "text": [
      "\n"
     ]
    },
    {
     "data": {
      "application/vnd.jupyter.widget-view+json": {
       "model_id": "2bd5f2fd7085473b891beea50e45dffe",
       "version_major": 2,
       "version_minor": 0
      },
      "text/plain": [
       "HBox(children=(HTML(value='Training (epoch #10)'), FloatProgress(value=0.0, max=6191.0), HTML(value='')))"
      ]
     },
     "metadata": {},
     "output_type": "display_data"
    },
    {
     "name": "stdout",
     "output_type": "stream",
     "text": [
      "\n"
     ]
    },
    {
     "data": {
      "application/vnd.jupyter.widget-view+json": {
       "model_id": "07a40f41308b4d799e15f30ef934cfe5",
       "version_major": 2,
       "version_minor": 0
      },
      "text/plain": [
       "HBox(children=(HTML(value='Training (epoch #11)'), FloatProgress(value=0.0, max=6191.0), HTML(value='')))"
      ]
     },
     "metadata": {},
     "output_type": "display_data"
    },
    {
     "name": "stdout",
     "output_type": "stream",
     "text": [
      "\n"
     ]
    },
    {
     "data": {
      "application/vnd.jupyter.widget-view+json": {
       "model_id": "d64fbc9853a64ed2806821efc8c6738d",
       "version_major": 2,
       "version_minor": 0
      },
      "text/plain": [
       "HBox(children=(HTML(value='Training (epoch #12)'), FloatProgress(value=0.0, max=6191.0), HTML(value='')))"
      ]
     },
     "metadata": {},
     "output_type": "display_data"
    },
    {
     "name": "stdout",
     "output_type": "stream",
     "text": [
      "\n"
     ]
    },
    {
     "data": {
      "application/vnd.jupyter.widget-view+json": {
       "model_id": "53cbc8561a544764896f1fcdeb5d8ef0",
       "version_major": 2,
       "version_minor": 0
      },
      "text/plain": [
       "HBox(children=(HTML(value='Training (epoch #13)'), FloatProgress(value=0.0, max=6191.0), HTML(value='')))"
      ]
     },
     "metadata": {},
     "output_type": "display_data"
    },
    {
     "name": "stdout",
     "output_type": "stream",
     "text": [
      "\n"
     ]
    },
    {
     "data": {
      "application/vnd.jupyter.widget-view+json": {
       "model_id": "1bb9fdff748d4e8b8a31872671276198",
       "version_major": 2,
       "version_minor": 0
      },
      "text/plain": [
       "HBox(children=(HTML(value='Training (epoch #14)'), FloatProgress(value=0.0, max=6191.0), HTML(value='')))"
      ]
     },
     "metadata": {},
     "output_type": "display_data"
    },
    {
     "name": "stdout",
     "output_type": "stream",
     "text": [
      "\n"
     ]
    },
    {
     "data": {
      "application/vnd.jupyter.widget-view+json": {
       "model_id": "99510c98df454c4db6c60857b187282c",
       "version_major": 2,
       "version_minor": 0
      },
      "text/plain": [
       "HBox(children=(HTML(value='Training (epoch #15)'), FloatProgress(value=0.0, max=6191.0), HTML(value='')))"
      ]
     },
     "metadata": {},
     "output_type": "display_data"
    },
    {
     "name": "stdout",
     "output_type": "stream",
     "text": [
      "\n"
     ]
    },
    {
     "data": {
      "application/vnd.jupyter.widget-view+json": {
       "model_id": "45229a2f530a43499a0de1c3012cdf63",
       "version_major": 2,
       "version_minor": 0
      },
      "text/plain": [
       "HBox(children=(HTML(value='Training (epoch #16)'), FloatProgress(value=0.0, max=6191.0), HTML(value='')))"
      ]
     },
     "metadata": {},
     "output_type": "display_data"
    },
    {
     "name": "stdout",
     "output_type": "stream",
     "text": [
      "\n"
     ]
    },
    {
     "data": {
      "application/vnd.jupyter.widget-view+json": {
       "model_id": "e4dcd2a4377645b39ba6428cbe19b43d",
       "version_major": 2,
       "version_minor": 0
      },
      "text/plain": [
       "HBox(children=(HTML(value='Training (epoch #17)'), FloatProgress(value=0.0, max=6191.0), HTML(value='')))"
      ]
     },
     "metadata": {},
     "output_type": "display_data"
    },
    {
     "name": "stdout",
     "output_type": "stream",
     "text": [
      "\n"
     ]
    },
    {
     "data": {
      "application/vnd.jupyter.widget-view+json": {
       "model_id": "e661b3ca8a224ffb9115f4890605f7f9",
       "version_major": 2,
       "version_minor": 0
      },
      "text/plain": [
       "HBox(children=(HTML(value='Training (epoch #18)'), FloatProgress(value=0.0, max=6191.0), HTML(value='')))"
      ]
     },
     "metadata": {},
     "output_type": "display_data"
    },
    {
     "name": "stdout",
     "output_type": "stream",
     "text": [
      "\n"
     ]
    },
    {
     "data": {
      "application/vnd.jupyter.widget-view+json": {
       "model_id": "97228b20c79144fd83b3b0bed1874179",
       "version_major": 2,
       "version_minor": 0
      },
      "text/plain": [
       "HBox(children=(HTML(value='Training (epoch #19)'), FloatProgress(value=0.0, max=6191.0), HTML(value='')))"
      ]
     },
     "metadata": {},
     "output_type": "display_data"
    },
    {
     "name": "stdout",
     "output_type": "stream",
     "text": [
      "\n"
     ]
    },
    {
     "data": {
      "application/vnd.jupyter.widget-view+json": {
       "model_id": "f6eaa6361f604a52a866e361b0131cd7",
       "version_major": 2,
       "version_minor": 0
      },
      "text/plain": [
       "HBox(children=(HTML(value='Training (epoch #20)'), FloatProgress(value=0.0, max=6191.0), HTML(value='')))"
      ]
     },
     "metadata": {},
     "output_type": "display_data"
    },
    {
     "name": "stdout",
     "output_type": "stream",
     "text": [
      "\n"
     ]
    },
    {
     "data": {
      "application/vnd.jupyter.widget-view+json": {
       "model_id": "0dd37952fbee49818a342e9da3105df2",
       "version_major": 2,
       "version_minor": 0
      },
      "text/plain": [
       "HBox(children=(HTML(value='Training (epoch #21)'), FloatProgress(value=0.0, max=6191.0), HTML(value='')))"
      ]
     },
     "metadata": {},
     "output_type": "display_data"
    },
    {
     "name": "stdout",
     "output_type": "stream",
     "text": [
      "\n"
     ]
    },
    {
     "data": {
      "application/vnd.jupyter.widget-view+json": {
       "model_id": "2e09d06482b946d88570cf3152f9ebb8",
       "version_major": 2,
       "version_minor": 0
      },
      "text/plain": [
       "HBox(children=(HTML(value='Training (epoch #22)'), FloatProgress(value=0.0, max=6191.0), HTML(value='')))"
      ]
     },
     "metadata": {},
     "output_type": "display_data"
    },
    {
     "name": "stdout",
     "output_type": "stream",
     "text": [
      "\n"
     ]
    },
    {
     "data": {
      "application/vnd.jupyter.widget-view+json": {
       "model_id": "cde56acb450e4ccab772a7b898869a20",
       "version_major": 2,
       "version_minor": 0
      },
      "text/plain": [
       "HBox(children=(HTML(value='Training (epoch #23)'), FloatProgress(value=0.0, max=6191.0), HTML(value='')))"
      ]
     },
     "metadata": {},
     "output_type": "display_data"
    },
    {
     "name": "stdout",
     "output_type": "stream",
     "text": [
      "\n"
     ]
    },
    {
     "data": {
      "application/vnd.jupyter.widget-view+json": {
       "model_id": "87bb90dbb1b24628a7908d29e4cf901d",
       "version_major": 2,
       "version_minor": 0
      },
      "text/plain": [
       "HBox(children=(HTML(value='Training (epoch #24)'), FloatProgress(value=0.0, max=6191.0), HTML(value='')))"
      ]
     },
     "metadata": {},
     "output_type": "display_data"
    },
    {
     "name": "stdout",
     "output_type": "stream",
     "text": [
      "\n"
     ]
    },
    {
     "data": {
      "application/vnd.jupyter.widget-view+json": {
       "model_id": "90f720f2170e4bf9aff879d11170f3cb",
       "version_major": 2,
       "version_minor": 0
      },
      "text/plain": [
       "HBox(children=(HTML(value='Training (epoch #25)'), FloatProgress(value=0.0, max=6191.0), HTML(value='')))"
      ]
     },
     "metadata": {},
     "output_type": "display_data"
    },
    {
     "name": "stdout",
     "output_type": "stream",
     "text": [
      "\n"
     ]
    },
    {
     "data": {
      "application/vnd.jupyter.widget-view+json": {
       "model_id": "4fbb08a4331b413ea18c9518955dbb39",
       "version_major": 2,
       "version_minor": 0
      },
      "text/plain": [
       "HBox(children=(HTML(value='Training (epoch #26)'), FloatProgress(value=0.0, max=6191.0), HTML(value='')))"
      ]
     },
     "metadata": {},
     "output_type": "display_data"
    },
    {
     "name": "stdout",
     "output_type": "stream",
     "text": [
      "\n"
     ]
    },
    {
     "data": {
      "application/vnd.jupyter.widget-view+json": {
       "model_id": "b7f23820bc86469ab0dc754fadac6f8c",
       "version_major": 2,
       "version_minor": 0
      },
      "text/plain": [
       "HBox(children=(HTML(value='Training (epoch #27)'), FloatProgress(value=0.0, max=6191.0), HTML(value='')))"
      ]
     },
     "metadata": {},
     "output_type": "display_data"
    },
    {
     "name": "stdout",
     "output_type": "stream",
     "text": [
      "\n"
     ]
    },
    {
     "data": {
      "application/vnd.jupyter.widget-view+json": {
       "model_id": "b75951622ff543ebb2f21b99a26bb641",
       "version_major": 2,
       "version_minor": 0
      },
      "text/plain": [
       "HBox(children=(HTML(value='Training (epoch #28)'), FloatProgress(value=0.0, max=6191.0), HTML(value='')))"
      ]
     },
     "metadata": {},
     "output_type": "display_data"
    },
    {
     "name": "stdout",
     "output_type": "stream",
     "text": [
      "\n"
     ]
    },
    {
     "data": {
      "application/vnd.jupyter.widget-view+json": {
       "model_id": "91f7a3d699ec4252b915ac2fb5e1aa79",
       "version_major": 2,
       "version_minor": 0
      },
      "text/plain": [
       "HBox(children=(HTML(value='Training (epoch #29)'), FloatProgress(value=0.0, max=6191.0), HTML(value='')))"
      ]
     },
     "metadata": {},
     "output_type": "display_data"
    },
    {
     "name": "stdout",
     "output_type": "stream",
     "text": [
      "\n"
     ]
    },
    {
     "data": {
      "application/vnd.jupyter.widget-view+json": {
       "model_id": "248601c41d2241e2b6237d4fefbe9fe0",
       "version_major": 2,
       "version_minor": 0
      },
      "text/plain": [
       "HBox(children=(HTML(value='Training (epoch #30)'), FloatProgress(value=0.0, max=6191.0), HTML(value='')))"
      ]
     },
     "metadata": {},
     "output_type": "display_data"
    },
    {
     "name": "stdout",
     "output_type": "stream",
     "text": [
      "\n"
     ]
    },
    {
     "data": {
      "application/vnd.jupyter.widget-view+json": {
       "model_id": "5ea7cc0d06d447e585e959732c48034d",
       "version_major": 2,
       "version_minor": 0
      },
      "text/plain": [
       "HBox(children=(HTML(value='Training (epoch #31)'), FloatProgress(value=0.0, max=6191.0), HTML(value='')))"
      ]
     },
     "metadata": {},
     "output_type": "display_data"
    },
    {
     "name": "stdout",
     "output_type": "stream",
     "text": [
      "\n"
     ]
    },
    {
     "data": {
      "application/vnd.jupyter.widget-view+json": {
       "model_id": "44089a58f2e74a5180be49662e12d2b6",
       "version_major": 2,
       "version_minor": 0
      },
      "text/plain": [
       "HBox(children=(HTML(value='Training (epoch #32)'), FloatProgress(value=0.0, max=6191.0), HTML(value='')))"
      ]
     },
     "metadata": {},
     "output_type": "display_data"
    },
    {
     "name": "stdout",
     "output_type": "stream",
     "text": [
      "\n"
     ]
    },
    {
     "data": {
      "application/vnd.jupyter.widget-view+json": {
       "model_id": "b6e66f24c9e0491081263a87991a1d7b",
       "version_major": 2,
       "version_minor": 0
      },
      "text/plain": [
       "HBox(children=(HTML(value='Training (epoch #33)'), FloatProgress(value=0.0, max=6191.0), HTML(value='')))"
      ]
     },
     "metadata": {},
     "output_type": "display_data"
    },
    {
     "name": "stdout",
     "output_type": "stream",
     "text": [
      "\n"
     ]
    },
    {
     "data": {
      "application/vnd.jupyter.widget-view+json": {
       "model_id": "6ca322b83df64cbbafd9ad9905449d93",
       "version_major": 2,
       "version_minor": 0
      },
      "text/plain": [
       "HBox(children=(HTML(value='Training (epoch #34)'), FloatProgress(value=0.0, max=6191.0), HTML(value='')))"
      ]
     },
     "metadata": {},
     "output_type": "display_data"
    },
    {
     "name": "stdout",
     "output_type": "stream",
     "text": [
      "\n"
     ]
    },
    {
     "data": {
      "application/vnd.jupyter.widget-view+json": {
       "model_id": "079a1ff94151484cb279b970fb3a12a0",
       "version_major": 2,
       "version_minor": 0
      },
      "text/plain": [
       "HBox(children=(HTML(value='Training (epoch #35)'), FloatProgress(value=0.0, max=6191.0), HTML(value='')))"
      ]
     },
     "metadata": {},
     "output_type": "display_data"
    },
    {
     "name": "stdout",
     "output_type": "stream",
     "text": [
      "\n"
     ]
    },
    {
     "data": {
      "application/vnd.jupyter.widget-view+json": {
       "model_id": "9dbcd0e27edb445587913270810d819c",
       "version_major": 2,
       "version_minor": 0
      },
      "text/plain": [
       "HBox(children=(HTML(value='Training (epoch #36)'), FloatProgress(value=0.0, max=6191.0), HTML(value='')))"
      ]
     },
     "metadata": {},
     "output_type": "display_data"
    },
    {
     "name": "stdout",
     "output_type": "stream",
     "text": [
      "\n"
     ]
    },
    {
     "data": {
      "application/vnd.jupyter.widget-view+json": {
       "model_id": "fc7d9649ceb44a7c8d840dcc6f510ac3",
       "version_major": 2,
       "version_minor": 0
      },
      "text/plain": [
       "HBox(children=(HTML(value='Training (epoch #37)'), FloatProgress(value=0.0, max=6191.0), HTML(value='')))"
      ]
     },
     "metadata": {},
     "output_type": "display_data"
    },
    {
     "name": "stdout",
     "output_type": "stream",
     "text": [
      "\n"
     ]
    },
    {
     "data": {
      "application/vnd.jupyter.widget-view+json": {
       "model_id": "16b5e0f088c641f88fb04221f204e633",
       "version_major": 2,
       "version_minor": 0
      },
      "text/plain": [
       "HBox(children=(HTML(value='Training (epoch #38)'), FloatProgress(value=0.0, max=6191.0), HTML(value='')))"
      ]
     },
     "metadata": {},
     "output_type": "display_data"
    },
    {
     "name": "stdout",
     "output_type": "stream",
     "text": [
      "\n"
     ]
    },
    {
     "data": {
      "application/vnd.jupyter.widget-view+json": {
       "model_id": "690ee4607813472796b36a22f6b2ad23",
       "version_major": 2,
       "version_minor": 0
      },
      "text/plain": [
       "HBox(children=(HTML(value='Training (epoch #39)'), FloatProgress(value=0.0, max=6191.0), HTML(value='')))"
      ]
     },
     "metadata": {},
     "output_type": "display_data"
    },
    {
     "name": "stdout",
     "output_type": "stream",
     "text": [
      "\n"
     ]
    },
    {
     "data": {
      "application/vnd.jupyter.widget-view+json": {
       "model_id": "1e72351f97234a91a51b7fc6c44df6b7",
       "version_major": 2,
       "version_minor": 0
      },
      "text/plain": [
       "HBox(children=(HTML(value='Training (epoch #40)'), FloatProgress(value=0.0, max=6191.0), HTML(value='')))"
      ]
     },
     "metadata": {},
     "output_type": "display_data"
    },
    {
     "name": "stdout",
     "output_type": "stream",
     "text": [
      "\n"
     ]
    },
    {
     "data": {
      "application/vnd.jupyter.widget-view+json": {
       "model_id": "287fadb71c194fe286048a1b65d44ffa",
       "version_major": 2,
       "version_minor": 0
      },
      "text/plain": [
       "HBox(children=(HTML(value='Training (epoch #41)'), FloatProgress(value=0.0, max=6191.0), HTML(value='')))"
      ]
     },
     "metadata": {},
     "output_type": "display_data"
    },
    {
     "name": "stdout",
     "output_type": "stream",
     "text": [
      "\n"
     ]
    },
    {
     "data": {
      "application/vnd.jupyter.widget-view+json": {
       "model_id": "60f30da910b34b0887a294974d1af549",
       "version_major": 2,
       "version_minor": 0
      },
      "text/plain": [
       "HBox(children=(HTML(value='Training (epoch #42)'), FloatProgress(value=0.0, max=6191.0), HTML(value='')))"
      ]
     },
     "metadata": {},
     "output_type": "display_data"
    },
    {
     "name": "stdout",
     "output_type": "stream",
     "text": [
      "\n"
     ]
    },
    {
     "data": {
      "application/vnd.jupyter.widget-view+json": {
       "model_id": "51f19b42f4354f5d93b2f39ec767ecf5",
       "version_major": 2,
       "version_minor": 0
      },
      "text/plain": [
       "HBox(children=(HTML(value='Training (epoch #43)'), FloatProgress(value=0.0, max=6191.0), HTML(value='')))"
      ]
     },
     "metadata": {},
     "output_type": "display_data"
    },
    {
     "name": "stdout",
     "output_type": "stream",
     "text": [
      "\n"
     ]
    },
    {
     "data": {
      "application/vnd.jupyter.widget-view+json": {
       "model_id": "8d2f3ba81ea846c59f589db4527b18a2",
       "version_major": 2,
       "version_minor": 0
      },
      "text/plain": [
       "HBox(children=(HTML(value='Training (epoch #44)'), FloatProgress(value=0.0, max=6191.0), HTML(value='')))"
      ]
     },
     "metadata": {},
     "output_type": "display_data"
    },
    {
     "name": "stdout",
     "output_type": "stream",
     "text": [
      "\n"
     ]
    },
    {
     "data": {
      "application/vnd.jupyter.widget-view+json": {
       "model_id": "3075a3e91d9342f78a38daebd21409ce",
       "version_major": 2,
       "version_minor": 0
      },
      "text/plain": [
       "HBox(children=(HTML(value='Training (epoch #45)'), FloatProgress(value=0.0, max=6191.0), HTML(value='')))"
      ]
     },
     "metadata": {},
     "output_type": "display_data"
    },
    {
     "name": "stdout",
     "output_type": "stream",
     "text": [
      "\n"
     ]
    },
    {
     "data": {
      "application/vnd.jupyter.widget-view+json": {
       "model_id": "b839b98a1b7a484f850173eca04e7d2f",
       "version_major": 2,
       "version_minor": 0
      },
      "text/plain": [
       "HBox(children=(HTML(value='Training (epoch #46)'), FloatProgress(value=0.0, max=6191.0), HTML(value='')))"
      ]
     },
     "metadata": {},
     "output_type": "display_data"
    },
    {
     "name": "stdout",
     "output_type": "stream",
     "text": [
      "\n"
     ]
    },
    {
     "data": {
      "application/vnd.jupyter.widget-view+json": {
       "model_id": "81473122f7104430aca31b217c864a2d",
       "version_major": 2,
       "version_minor": 0
      },
      "text/plain": [
       "HBox(children=(HTML(value='Training (epoch #47)'), FloatProgress(value=0.0, max=6191.0), HTML(value='')))"
      ]
     },
     "metadata": {},
     "output_type": "display_data"
    },
    {
     "name": "stdout",
     "output_type": "stream",
     "text": [
      "\n"
     ]
    },
    {
     "data": {
      "application/vnd.jupyter.widget-view+json": {
       "model_id": "b58a1503d18b43ce980407155d5249fb",
       "version_major": 2,
       "version_minor": 0
      },
      "text/plain": [
       "HBox(children=(HTML(value='Training (epoch #48)'), FloatProgress(value=0.0, max=6191.0), HTML(value='')))"
      ]
     },
     "metadata": {},
     "output_type": "display_data"
    },
    {
     "name": "stdout",
     "output_type": "stream",
     "text": [
      "\n"
     ]
    },
    {
     "data": {
      "application/vnd.jupyter.widget-view+json": {
       "model_id": "e97b269ccace4e21a94677e4637ae320",
       "version_major": 2,
       "version_minor": 0
      },
      "text/plain": [
       "HBox(children=(HTML(value='Training (epoch #49)'), FloatProgress(value=0.0, max=6191.0), HTML(value='')))"
      ]
     },
     "metadata": {},
     "output_type": "display_data"
    },
    {
     "name": "stdout",
     "output_type": "stream",
     "text": [
      "\n"
     ]
    },
    {
     "data": {
      "application/vnd.jupyter.widget-view+json": {
       "model_id": "099e7da2f6174c78b6b8684f4fccc63a",
       "version_major": 2,
       "version_minor": 0
      },
      "text/plain": [
       "HBox(children=(HTML(value='Training (epoch #50)'), FloatProgress(value=0.0, max=6191.0), HTML(value='')))"
      ]
     },
     "metadata": {},
     "output_type": "display_data"
    },
    {
     "name": "stdout",
     "output_type": "stream",
     "text": [
      "\n"
     ]
    },
    {
     "data": {
      "application/vnd.jupyter.widget-view+json": {
       "model_id": "32acaf76b66c4796b96980608bba6d9d",
       "version_major": 2,
       "version_minor": 0
      },
      "text/plain": [
       "HBox(children=(HTML(value='Training (epoch #51)'), FloatProgress(value=0.0, max=6191.0), HTML(value='')))"
      ]
     },
     "metadata": {},
     "output_type": "display_data"
    },
    {
     "name": "stdout",
     "output_type": "stream",
     "text": [
      "\n"
     ]
    },
    {
     "data": {
      "application/vnd.jupyter.widget-view+json": {
       "model_id": "5e081a016d2740fabafde7b02664a1d4",
       "version_major": 2,
       "version_minor": 0
      },
      "text/plain": [
       "HBox(children=(HTML(value='Training (epoch #52)'), FloatProgress(value=0.0, max=6191.0), HTML(value='')))"
      ]
     },
     "metadata": {},
     "output_type": "display_data"
    }
   ],
   "source": [
    "train = moses.get_dataset('train')\n",
    "neg = neg_trigrams\n",
    "\n",
    "config = CharRNNConfig.get_config()\n",
    "config.log_file = None\n",
    "config.n_workers = 1\n",
    "config.n_batch = 256\n",
    "config.model_save = 'crnn_am_8.pth'\n",
    "config.save_frequency = 20\n",
    "trainer = CharRNNTrainer(config)\n",
    "crnn = CharRNN(CharVocab.from_data(train), config)\n",
    "crnn.cuda()\n",
    "trainer.fit(crnn, train, neg)"
   ]
  },
  {
   "cell_type": "code",
   "execution_count": null,
   "metadata": {},
   "outputs": [],
   "source": [
    "neg_trigrams"
   ]
  },
  {
   "cell_type": "code",
   "execution_count": null,
   "metadata": {},
   "outputs": [],
   "source": [
    "crnn.cpu()"
   ]
  },
  {
   "cell_type": "code",
   "execution_count": null,
   "metadata": {},
   "outputs": [],
   "source": [
    "test_vals = crnn.sample(100_000)"
   ]
  },
  {
   "cell_type": "code",
   "execution_count": null,
   "metadata": {},
   "outputs": [],
   "source": [
    "moses.get_all_metrics(test_vals)"
   ]
  },
  {
   "cell_type": "code",
   "execution_count": null,
   "metadata": {},
   "outputs": [],
   "source": []
  }
 ],
 "metadata": {
  "kernelspec": {
   "display_name": "moses",
   "language": "python",
   "name": "moses"
  },
  "language_info": {
   "codemirror_mode": {
    "name": "ipython",
    "version": 3
   },
   "file_extension": ".py",
   "mimetype": "text/x-python",
   "name": "python",
   "nbconvert_exporter": "python",
   "pygments_lexer": "ipython3",
   "version": "3.6.11"
  }
 },
 "nbformat": 4,
 "nbformat_minor": 4
}
